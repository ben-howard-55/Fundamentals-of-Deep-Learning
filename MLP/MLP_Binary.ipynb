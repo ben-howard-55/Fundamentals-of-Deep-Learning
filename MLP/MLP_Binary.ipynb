{
  "cells": [
    {
      "cell_type": "markdown",
      "metadata": {
        "id": "EtHLt3RSJSiA"
      },
      "source": [
        "# Binary Multilayer Perceptron\n",
        "## Using Ionosphere dataset\n",
        "Multilayer Perceptrons or MLPs are fully connected Neural Networks, where each hidden layer is dense.\n",
        "\n",
        "Usefule for:\n",
        "\n",
        "1. Binary Classification\n",
        "2. Multiclass Classification\n",
        "3. Regression"
      ]
    },
    {
      "cell_type": "markdown",
      "metadata": {
        "id": "Caay1C7_JyxI"
      },
      "source": [
        "# MLP for Binary Classification.\n",
        "- Using a dataset that is used to determine whether a signal originates from or outside our atmosphere. (Ionosphere Dataset)."
      ]
    },
    {
      "cell_type": "markdown",
      "metadata": {
        "id": "KdHfpVYYKKdP"
      },
      "source": [
        "Imports for data processing:"
      ]
    },
    {
      "cell_type": "code",
      "execution_count": 7,
      "metadata": {
        "id": "R4v3QMnkIRna"
      },
      "outputs": [],
      "source": [
        "# pre imports\n",
        "from pandas import read_csv\n",
        "from sklearn.model_selection import train_test_split\n",
        "from sklearn.preprocessing import LabelEncoder\n",
        "from tensorflow.keras import Sequential\n",
        "from tensorflow.keras.layers import Dense"
      ]
    },
    {
      "cell_type": "markdown",
      "metadata": {
        "id": "y8unoIdiKOpC"
      },
      "source": [
        "Loading the dataset:"
      ]
    },
    {
      "cell_type": "code",
      "execution_count": 2,
      "metadata": {
        "id": "X3AeYO4kKeiP"
      },
      "outputs": [],
      "source": [
        "path = \"https://raw.githubusercontent.com/jbrownlee/Datasets/master/ionosphere.csv\""
      ]
    },
    {
      "cell_type": "code",
      "execution_count": 11,
      "metadata": {
        "colab": {
          "base_uri": "https://localhost:8080/"
        },
        "id": "7ArSBbz4KqWx",
        "outputId": "3a8c39a5-17b9-49aa-a129-681cdb225293"
      },
      "outputs": [
        {
          "name": "stdout",
          "output_type": "stream",
          "text": [
            "     0   1        2        3        4   ...       30       31       32       33  34\n",
            "0     1   0  0.99539 -0.05889  0.85243  ...  0.42267 -0.54487  0.18641 -0.45300   g\n",
            "1     1   0  1.00000 -0.18829  0.93035  ... -0.16626 -0.06288 -0.13738 -0.02447   b\n",
            "2     1   0  1.00000 -0.03365  1.00000  ...  0.60436 -0.24180  0.56045 -0.38238   g\n",
            "3     1   0  1.00000 -0.45161  1.00000  ...  0.25682  1.00000 -0.32382  1.00000   b\n",
            "4     1   0  1.00000 -0.02401  0.94140  ... -0.05707 -0.59573 -0.04608 -0.65697   g\n",
            "..   ..  ..      ...      ...      ...  ...      ...      ...      ...      ...  ..\n",
            "346   1   0  0.83508  0.08298  0.73739  ...  0.86660 -0.10714  0.90546 -0.04307   g\n",
            "347   1   0  0.95113  0.00419  0.95183  ...  0.94066 -0.00035  0.91483  0.04712   g\n",
            "348   1   0  0.94701 -0.00034  0.93207  ...  0.92459  0.00442  0.92697 -0.00577   g\n",
            "349   1   0  0.90608 -0.01657  0.98122  ...  0.96022 -0.03757  0.87403 -0.16243   g\n",
            "350   1   0  0.84710  0.13533  0.73638  ...  0.75747 -0.06678  0.85764 -0.06151   g\n",
            "\n",
            "[351 rows x 35 columns]\n"
          ]
        }
      ],
      "source": [
        "df = read_csv(path, header=None)\n",
        "print(df)"
      ]
    },
    {
      "cell_type": "markdown",
      "metadata": {
        "id": "HyjskV29Lbh7"
      },
      "source": [
        "Splitting the data into output and input"
      ]
    },
    {
      "cell_type": "code",
      "execution_count": 14,
      "metadata": {
        "id": "7INtBowoLiBm"
      },
      "outputs": [],
      "source": [
        "X, Y = df.values[:, :-1], df.values[:, -1]"
      ]
    },
    {
      "cell_type": "code",
      "execution_count": 17,
      "metadata": {
        "colab": {
          "base_uri": "https://localhost:8080/"
        },
        "id": "tIXbh4BuLthT",
        "outputId": "714022ca-9191-4bf7-8684-d433f78ef116"
      },
      "outputs": [
        {
          "name": "stdout",
          "output_type": "stream",
          "text": [
            "[[ 1.       0.       0.99539 ... -0.54487  0.18641 -0.453  ]\n",
            " [ 1.       0.       1.      ... -0.06288 -0.13738 -0.02447]\n",
            " [ 1.       0.       1.      ... -0.2418   0.56045 -0.38238]\n",
            " ...\n",
            " [ 1.       0.       0.94701 ...  0.00442  0.92697 -0.00577]\n",
            " [ 1.       0.       0.90608 ... -0.03757  0.87403 -0.16243]\n",
            " [ 1.       0.       0.8471  ... -0.06678  0.85764 -0.06151]]\n"
          ]
        }
      ],
      "source": [
        "X = X.astype('float32')\n",
        "print(X)"
      ]
    },
    {
      "cell_type": "markdown",
      "metadata": {
        "id": "IBMzzjz8MlUi"
      },
      "source": [
        "Encoding string outputs as integers"
      ]
    },
    {
      "cell_type": "code",
      "execution_count": 19,
      "metadata": {
        "id": "n5-DawQ0L1lt"
      },
      "outputs": [],
      "source": [
        "Y = LabelEncoder().fit_transform(Y)"
      ]
    },
    {
      "cell_type": "markdown",
      "metadata": {
        "id": "sNTcRGJRNFzm"
      },
      "source": [
        "Splitting the input and output into test and training samples."
      ]
    },
    {
      "cell_type": "code",
      "execution_count": 24,
      "metadata": {
        "id": "mIdEUFasM02L"
      },
      "outputs": [],
      "source": [
        "X_train, X_test, y_train, y_test = train_test_split(X, Y, test_size=0.33)"
      ]
    },
    {
      "cell_type": "markdown",
      "metadata": {
        "id": "ks4dEXxONUjg"
      },
      "source": [
        "There are 116 tests and 235 training data points. Each datapoint contains 34 features."
      ]
    },
    {
      "cell_type": "code",
      "execution_count": 25,
      "metadata": {
        "colab": {
          "base_uri": "https://localhost:8080/"
        },
        "id": "-vJD-OLNM947",
        "outputId": "df8ef6e7-6d5c-484a-efb2-ffc80cd0d1a4"
      },
      "outputs": [
        {
          "name": "stdout",
          "output_type": "stream",
          "text": [
            "(116, 34) (235, 34) (116,) (235,)\n"
          ]
        }
      ],
      "source": [
        "print(X_test.shape, X_train.shape, y_test.shape, y_train.shape)"
      ]
    },
    {
      "cell_type": "markdown",
      "metadata": {},
      "source": [
        "Get number of input features:"
      ]
    },
    {
      "cell_type": "code",
      "execution_count": 26,
      "metadata": {
        "id": "qNFdHX9oNj3g"
      },
      "outputs": [],
      "source": [
        "n_features = X_train.shape[1]"
      ]
    },
    {
      "cell_type": "markdown",
      "metadata": {
        "id": "Jpp7r6JoM0U7"
      },
      "source": [
        "# 1. Defining the Model"
      ]
    },
    {
      "cell_type": "markdown",
      "metadata": {
        "id": "dDJ9W_CDOnfB"
      },
      "source": [
        "The code below produces 2 Hidden layers, an input and output layer.\n",
        "- The input layer is of shape 34.\n",
        "- The first hidden layer has 10 ReLU neurons and is initilaized with he_normal weights. (truncated normal dist.)\n",
        "- The second hidden layer has 8 ReLU neruons with the same initializer as above.\n",
        "- The output layer has 1 neuron due to the binary nature of the problem."
      ]
    },
    {
      "cell_type": "code",
      "execution_count": 30,
      "metadata": {
        "id": "8on5VW20NkGh"
      },
      "outputs": [],
      "source": [
        "model = Sequential()\n",
        "model.add(\n",
        "    Dense(10, \n",
        "          activation='relu', \n",
        "          kernel_initializer='he_normal', \n",
        "          input_shape=(n_features,)\n",
        "          )\n",
        "    )\n",
        "model.add(\n",
        "    Dense(8,\n",
        "          activation=\"relu\",\n",
        "          kernel_initializer='he_normal')\n",
        "  )\n",
        "model.add(Dense(1, activation=\"sigmoid\"))"
      ]
    },
    {
      "cell_type": "markdown",
      "metadata": {
        "id": "dulEAaiCQ4BV"
      },
      "source": [
        "## 2. Compiling the Model\n",
        "Here Compilation is used using the 'adam' optimizer model.\n",
        "Loss is calculated by crossentropy binary loss and the metric used for analysis is accuracy."
      ]
    },
    {
      "cell_type": "code",
      "execution_count": 31,
      "metadata": {
        "id": "BCMLAvN_OmtS"
      },
      "outputs": [],
      "source": [
        "model.compile(optimizer='adam', loss='binary_crossentropy', metrics=['accuracy'])"
      ]
    },
    {
      "cell_type": "markdown",
      "metadata": {
        "id": "4KYH2JXOR8PW"
      },
      "source": [
        "# 3. Fitting the Model\n",
        "The fitting of the model will be occuring with the training data set (66%).\n",
        "- 150 Epochs will be used.\n",
        "- The Batch Size is 32.\n",
        "- Verbose is set to 0, so no outputs."
      ]
    },
    {
      "cell_type": "code",
      "execution_count": 32,
      "metadata": {
        "colab": {
          "base_uri": "https://localhost:8080/"
        },
        "id": "oYwBNkUySdTG",
        "outputId": "2448c317-051c-4447-e415-6d6442e337c0"
      },
      "outputs": [
        {
          "data": {
            "text/plain": [
              "<tensorflow.python.keras.callbacks.History at 0x7f0fa4b7fed0>"
            ]
          },
          "execution_count": 32,
          "metadata": {
            "tags": []
          },
          "output_type": "execute_result"
        }
      ],
      "source": [
        "model.fit(X_train, y_train, epochs=150, batch_size=32, verbose=0)"
      ]
    },
    {
      "cell_type": "markdown",
      "metadata": {
        "id": "eVjrrd-aS_BT"
      },
      "source": [
        "# 4. Evaluating the Model\n",
        "Running the trained model with the test data produces two variables:\n",
        "1. Loss (cross entropy loss)\n",
        "2. Accuracy\n",
        "*In this case accuracy was 92.2%*"
      ]
    },
    {
      "cell_type": "code",
      "execution_count": 35,
      "metadata": {
        "colab": {
          "base_uri": "https://localhost:8080/"
        },
        "id": "JdlcFaH8SnuH",
        "outputId": "eeb34773-d3da-4518-c8ba-fb9cb4daf8c4"
      },
      "outputs": [
        {
          "name": "stdout",
          "output_type": "stream",
          "text": [
            "Test Accuraxcy: 0.922\n"
          ]
        }
      ],
      "source": [
        "loss, acc = model.evaluate(X_test, y_test, verbose=0)\n",
        "print('Test Accuracy: %.3f' % acc)"
      ]
    },
    {
      "cell_type": "markdown",
      "metadata": {
        "id": "7HKC6MVxUl4J"
      },
      "source": [
        "# 5. Make a Prediction\n",
        "Using data without an output, make a prediction.\n",
        "*This predicted 0.991 for input, meaning most likely in class 1."
      ]
    },
    {
      "cell_type": "code",
      "execution_count": 36,
      "metadata": {
        "colab": {
          "base_uri": "https://localhost:8080/"
        },
        "id": "jMi4exotU0Ua",
        "outputId": "b998ba0d-70f6-4b78-8971-a322cc7acbb5"
      },
      "outputs": [
        {
          "name": "stdout",
          "output_type": "stream",
          "text": [
            "Predicted: 0.991\n"
          ]
        }
      ],
      "source": [
        "row = [1,0,0.99539,-0.05889,0.85243,0.02306,0.83398,-0.37708,1,0.03760,0.85243,-0.17755,0.59755,-0.44945,0.60536,-0.38223,0.84356,-0.38542,0.58212,-0.32192,0.56971,-0.29674,0.36946,-0.47357,0.56811,-0.51171,0.41078,-0.46168,0.21266,-0.34090,0.42267,-0.54487,0.18641,-0.45300]\n",
        "y_hat = model.predict([row])\n",
        "print('Predicted: %.3f' % y_hat)"
      ]
    }
  ],
  "metadata": {
    "colab": {
      "collapsed_sections": [],
      "name": "MLP-Binary.ipynb",
      "provenance": []
    },
    "interpreter": {
      "hash": "767d51c1340bd893661ea55ea3124f6de3c7a262a8b4abca0554b478b1e2ff90"
    },
    "kernelspec": {
      "display_name": "Python 2.7.16 64-bit",
      "name": "python3"
    },
    "language_info": {
      "name": "python",
      "version": ""
    }
  },
  "nbformat": 4,
  "nbformat_minor": 2
}